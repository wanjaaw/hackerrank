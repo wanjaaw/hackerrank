{
 "cells": [
  {
   "cell_type": "markdown",
   "metadata": {},
   "source": [
    "The problem of finding the number of distinct ways to climb a staircase can be solved using dynamic programming. This is because the number of ways to reach the n\n",
    "n-th step is the sum of the number of ways to reach the (n−1)-th step and the \n",
    "(n−2)-th step.This can be formulated as a Fibonacci sequence.\n",
    "\n",
    "Define a DP array: Create an array where each element at index 𝑖 represents the number of ways to reach step 𝑖\n",
    "Base Cases:\n",
    "There is 1 way to reach the 0-th step (doing nothing).\n",
    "There is 1 way to reach the 1st step (one 1-step).\n",
    "Fill the DP array: Use the relation \n",
    "dp[i]=dp[i−1]+dp[i−2]dp[i]=dp[i−1]dp[i−2] for i >= 2"
   ]
  },
  {
   "cell_type": "code",
   "execution_count": 1,
   "metadata": {},
   "outputs": [
    {
     "name": "stdout",
     "output_type": "stream",
     "text": [
      "2\n",
      "89\n",
      "10946\n"
     ]
    }
   ],
   "source": [
    "def climb_stairs(n):\n",
    "    if n == 1:\n",
    "        return 1\n",
    "    if n == 2:\n",
    "        return 2\n",
    "\n",
    "    # Initialize the base cases\n",
    "    dp = [0] * (n + 1)\n",
    "    dp[1] = 1\n",
    "    dp[2] = 2\n",
    "\n",
    "    # Fill the DP array\n",
    "    for i in range(3, n + 1):\n",
    "        dp[i] = dp[i-1] + dp[i-2]\n",
    "\n",
    "    return dp[n]\n",
    "\n",
    "# Sample Inputs\n",
    "print(climb_stairs(2))  # Output: 2\n",
    "print(climb_stairs(10))  # Output: 89\n",
    "print(climb_stairs(20))  # Output: 10946\n"
   ]
  },
  {
   "cell_type": "markdown",
   "metadata": {},
   "source": [
    "Explanation\n",
    "Initialization:\n",
    "\n",
    "dp[1] = 1 because there is only one way to reach the first step (a single 1-step).\n",
    "dp[2] = 2 because there are two ways to reach the second step (either two 1-steps or one 2-step).\n",
    "Dynamic Programming Transition:\n",
    "\n",
    "For each step 𝑖 from 3 to 𝑛, the number of ways to reach that step is the sum of the ways to reach the previous step (dp[i-1]) and the step before the previous step (dp[i-2]).\n",
    "This algorithm has a time complexity of O(n) and space complexity of O(n). If space optimization is needed, we can reduce the space complexity to O(1) by keeping track of only the last two values."
   ]
  },
  {
   "cell_type": "code",
   "execution_count": 2,
   "metadata": {},
   "outputs": [
    {
     "name": "stdout",
     "output_type": "stream",
     "text": [
      "2\n",
      "89\n",
      "10946\n"
     ]
    }
   ],
   "source": [
    "def climb_stairs(n):\n",
    "    if n == 1:\n",
    "        return 1\n",
    "    if n == 2:\n",
    "        return 2\n",
    "\n",
    "    a, b = 1, 2\n",
    "\n",
    "    for i in range(3, n + 1):\n",
    "        a, b = b, a + b\n",
    "\n",
    "    return b\n",
    "\n",
    "# Sample Inputs\n",
    "print(climb_stairs(2))  # Output: 2\n",
    "print(climb_stairs(10))  # Output: 89\n",
    "print(climb_stairs(20))  # Output: 10946\n"
   ]
  },
  {
   "cell_type": "markdown",
   "metadata": {},
   "source": [
    "Space-Optimized\n",
    "Initialization:\n",
    "\n",
    "a is set to 1, representing the number of ways to reach the first step.\n",
    "b is set to 2, representing the number of ways to reach the second step.\n",
    "Iteration:\n",
    "For each step from 3 to n, update a to the previous b, and b to the sum of the previous a and b.\n",
    "This approach also ensures that the algorithm runs efficiently even for large values of n (up to 5000 as per the constraints)."
   ]
  }
 ],
 "metadata": {
  "kernelspec": {
   "display_name": "Python 3",
   "language": "python",
   "name": "python3"
  },
  "language_info": {
   "codemirror_mode": {
    "name": "ipython",
    "version": 3
   },
   "file_extension": ".py",
   "mimetype": "text/x-python",
   "name": "python",
   "nbconvert_exporter": "python",
   "pygments_lexer": "ipython3",
   "version": "3.12.3"
  }
 },
 "nbformat": 4,
 "nbformat_minor": 2
}
