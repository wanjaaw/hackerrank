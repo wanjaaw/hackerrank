{
 "cells": [
  {
   "cell_type": "code",
   "execution_count": 3,
   "metadata": {},
   "outputs": [
    {
     "name": "stdout",
     "output_type": "stream",
     "text": [
      "17.6\n",
      "0.0\n",
      "12.0\n"
     ]
    }
   ],
   "source": [
    "def maximum_profit(W, weights, profits):\n",
    "    # Calculate profit-to-weight ratio\n",
    "    ratio = [(profits[i] / weights[i], weights[i], profits[i]) for i in range(len(weights))]\n",
    "    \n",
    "    # Sort by profit-to-weight ratio in descending order\n",
    "    ratio.sort(reverse=True, key=lambda x: x[0])\n",
    "    \n",
    "    max_profit = 0.0\n",
    "    current_weight = 0\n",
    "    \n",
    "    for r, w, p in ratio:\n",
    "        if current_weight + w <= W:\n",
    "            # If the whole item can be taken\n",
    "            current_weight += w\n",
    "            max_profit += p\n",
    "        else:\n",
    "            # Take the fraction of the last item that fits\n",
    "            remain_weight = W - current_weight\n",
    "            max_profit += r * remain_weight\n",
    "            break\n",
    "    \n",
    "    return max_profit\n",
    "\n",
    "# Sample Inputs\n",
    "W = 12\n",
    "weights = [1, 3, 5, 7]\n",
    "profits = [2, 4, 7, 10]\n",
    "\n",
    "print(maximum_profit(W, weights, profits))  # Output: 17.6\n",
    "\n",
    "W = 0\n",
    "weights = [1, 3, 5, 7]\n",
    "profits = [4, 6, 7, 8]\n",
    "\n",
    "print(maximum_profit(W, weights, profits))  # Output: 0.0\n",
    "\n",
    "W = 8\n",
    "weights = [1, 3, 5, 7]\n",
    "profits = [2, 4, 7, 10]\n",
    "\n",
    "print(maximum_profit(W, weights, profits))  # Output: 12.0\n"
   ]
  }
 ],
 "metadata": {
  "kernelspec": {
   "display_name": "Python 3",
   "language": "python",
   "name": "python3"
  },
  "language_info": {
   "codemirror_mode": {
    "name": "ipython",
    "version": 3
   },
   "file_extension": ".py",
   "mimetype": "text/x-python",
   "name": "python",
   "nbconvert_exporter": "python",
   "pygments_lexer": "ipython3",
   "version": "3.12.3"
  }
 },
 "nbformat": 4,
 "nbformat_minor": 2
}
