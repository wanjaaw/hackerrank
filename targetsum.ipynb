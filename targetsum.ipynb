{
 "cells": [
  {
   "cell_type": "markdown",
   "metadata": {},
   "source": [
    "Explanation\n",
    "Transform the Problem: Let's denote the sum of the array as sum(nums). We want to find two subsets P and N such that:\n",
    "\n",
    "sum(P)−sum(N)=target\n",
    "Rearranging the terms, we get:\n",
    "2 x sum(P)=target+sum(nums)\n",
    "Therefore:\n",
    "sum(P)=(target+sum(nums))/2\n",
    "​\n",
    " \n",
    "This transforms the problem into finding the number of subsets whose sum is equal to \n",
    "(target+sum(nums))/2.\n",
    "\n",
    "Handle Edge Cases: If (target+sum(nums)) is odd or the target is out of the achievable range, return 0.\n",
    "\n",
    "Dynamic Programming Approach: Use a dynamic programming array dp where dp[i] represents the number of ways to get sum i using the elements of the array.\n",
    "\n",
    "DP Initialization and Transition:\n",
    "\n",
    "Initialize dp[0] = 1 because there's one way to make the sum 0 (by taking no elements).\n",
    "For each number in nums, update the dp array from right to left to avoid overcounting."
   ]
  },
  {
   "cell_type": "code",
   "execution_count": 1,
   "metadata": {},
   "outputs": [
    {
     "name": "stdout",
     "output_type": "stream",
     "text": [
      "5\n",
      "1\n",
      "1\n"
     ]
    }
   ],
   "source": [
    "def find_target_sum_ways(nums, target):\n",
    "    total_sum = sum(nums)\n",
    "    \n",
    "    # Check if the transformation is possible\n",
    "    if (target + total_sum) % 2 != 0 or target > total_sum or target < -total_sum:\n",
    "        return 0\n",
    "    \n",
    "    # The subset sum we need to find\n",
    "    subset_sum = (target + total_sum) // 2\n",
    "    \n",
    "    # Initialize the dp array\n",
    "    dp = [0] * (subset_sum + 1)\n",
    "    dp[0] = 1  # There's one way to make sum 0 (by taking no elements)\n",
    "    \n",
    "    # Fill the dp array\n",
    "    for num in nums:\n",
    "        for j in range(subset_sum, num - 1, -1):\n",
    "            dp[j] += dp[j - num]\n",
    "    \n",
    "    return dp[subset_sum]\n",
    "\n",
    "# Sample Inputs\n",
    "nums1 = [1, 1, 1, 1, 1]\n",
    "target1 = 3\n",
    "print(find_target_sum_ways(nums1, target1))  # Output: 5\n",
    "\n",
    "nums2 = [1]\n",
    "target2 = 1\n",
    "print(find_target_sum_ways(nums2, target2))  # Output: 1\n",
    "\n",
    "nums3 = [1, 2]\n",
    "target3 = 3\n",
    "print(find_target_sum_ways(nums3, target3))  # Output: 1\n"
   ]
  },
  {
   "cell_type": "markdown",
   "metadata": {},
   "source": [
    "Explanation of the Code\n",
    "Initial Check: The code first checks if it's possible to partition the sum into two subsets by verifying if the sum of target and total_sum is even and within the valid range.\n",
    "Subset Sum Calculation: It calculates the required subset sum and initializes a dp array where dp[i] holds the number of ways to achieve sum i.\n",
    "DP Array Update: For each number in the input array, it updates the dp array in a way similar to the knapsack problem, ensuring that each element is considered only once per sum calculation.\n",
    "Result: Finally, it returns the number of ways to achieve the subset sum which leads to the desired target.\n",
    "This approach ensures that the solution is both time-efficient and space-efficient, suitable for the given constraints."
   ]
  }
 ],
 "metadata": {
  "kernelspec": {
   "display_name": "Python 3",
   "language": "python",
   "name": "python3"
  },
  "language_info": {
   "codemirror_mode": {
    "name": "ipython",
    "version": 3
   },
   "file_extension": ".py",
   "mimetype": "text/x-python",
   "name": "python",
   "nbconvert_exporter": "python",
   "pygments_lexer": "ipython3",
   "version": "3.12.3"
  }
 },
 "nbformat": 4,
 "nbformat_minor": 2
}
